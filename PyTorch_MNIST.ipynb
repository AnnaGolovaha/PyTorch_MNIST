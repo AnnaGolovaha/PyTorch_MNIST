{
  "cells": [
    {
      "cell_type": "markdown",
      "metadata": {
        "id": "view-in-github",
        "colab_type": "text"
      },
      "source": [
        "<a href=\"https://colab.research.google.com/github/AnnaGolovaha/PyTorch_MNIST/blob/main/PyTorch_%D1%86%D0%B8%D1%84%D1%80%D1%8B.ipynb\" target=\"_parent\"><img src=\"https://colab.research.google.com/assets/colab-badge.svg\" alt=\"Open In Colab\"/></a>"
      ]
    },
    {
      "cell_type": "code",
      "execution_count": 1,
      "metadata": {
        "id": "afjHREOthNTX"
      },
      "outputs": [],
      "source": [
        "import torch\n",
        "import torch.nn as nn\n",
        "import torch.nn.functional as F #для функций\n",
        "import torchvision as tv\n",
        "\n",
        "import numpy as np\n",
        "import matplotlib.pyplot as plt\n",
        "import cv2\n",
        "import os\n",
        "from tqdm import tqdm #этот модуль нужен для того, чтобы видеть, что сейчас происходит в НС (учится она или нет)"
      ]
    },
    {
      "cell_type": "code",
      "execution_count": 2,
      "metadata": {
        "id": "ZheDCxnKFG95"
      },
      "outputs": [],
      "source": [
        "trans = tv.transforms.Compose ([\n",
        "    tv.transforms.ToTensor() #первод PIL изображения в тензор\n",
        "]) #трансформация, которая объединяет несколько трансфомаций"
      ]
    },
    {
      "cell_type": "code",
      "execution_count": null,
      "metadata": {
        "id": "dcUpwBekj0hY"
      },
      "outputs": [],
      "source": [
        "ds_mnist = tv.datasets.MNIST('./datasets', download=True, transform = trans )"
      ]
    },
    {
      "cell_type": "code",
      "execution_count": 4,
      "metadata": {
        "colab": {
          "base_uri": "https://localhost:8080/"
        },
        "id": "hkOognMQ4QzP",
        "outputId": "12be4398-a855-4b1b-dcdb-53c5e48c8303"
      },
      "outputs": [
        {
          "output_type": "execute_result",
          "data": {
            "text/plain": [
              "(28, 28)"
            ]
          },
          "metadata": {},
          "execution_count": 4
        }
      ],
      "source": [
        "ds_mnist[0][0].numpy()[0].shape"
      ]
    },
    {
      "cell_type": "code",
      "execution_count": 5,
      "metadata": {
        "colab": {
          "base_uri": "https://localhost:8080/",
          "height": 447
        },
        "id": "-eRVTYYGLFCj",
        "outputId": "1c8aa84c-cd5d-47bd-f427-7ae7ae033fb3"
      },
      "outputs": [
        {
          "output_type": "execute_result",
          "data": {
            "text/plain": [
              "<matplotlib.image.AxesImage at 0x79d111d191b0>"
            ]
          },
          "metadata": {},
          "execution_count": 5
        },
        {
          "output_type": "display_data",
          "data": {
            "text/plain": [
              "<Figure size 640x480 with 1 Axes>"
            ],
            "image/png": "[encoded data removed]"
          },
          "metadata": {}
        }
      ],
      "source": [
        "plt.imshow(ds_mnist[1][0].numpy()[0]) #рисуем первую картинку в датасете\n",
        "\n",
        "#визуализировать можно именно numpy файл, для него мы убираем первую размерность [0]"
      ]
    },
    {
      "cell_type": "code",
      "execution_count": 6,
      "metadata": {
        "id": "nx7Swr39OSbk"
      },
      "outputs": [],
      "source": [
        "batch_size = 16\n",
        "dataloader = torch.utils.data. DataLoader(\n",
        "    ds_mnist, batch_size = batch_size, shuffle = True,\n",
        "    num_workers =1, drop_last = True #num_workers-кол-во потоков(0-все потоки), drop_last -чтобы не было маленьких батчей\n",
        "    )"
      ]
    },
    {
      "cell_type": "code",
      "execution_count": 7,
      "metadata": {
        "colab": {
          "base_uri": "https://localhost:8080/"
        },
        "id": "amE0gimVQY8A",
        "outputId": "3293dc15-f116-4a33-cdac-66871970da71"
      },
      "outputs": [
        {
          "output_type": "stream",
          "name": "stdout",
          "text": [
            "torch.Size([16, 1, 28, 28])\n",
            "torch.Size([16])\n"
          ]
        }
      ],
      "source": [
        "for img, label in dataloader:\n",
        "  print(img.shape)\n",
        "  print(label.shape)\n",
        "  break"
      ]
    },
    {
      "cell_type": "code",
      "execution_count": 8,
      "metadata": {
        "id": "OyU9BqhJRfon"
      },
      "outputs": [],
      "source": [
        "class Neural_numbers(nn.Module): #наследуем класс от nn.Module\n",
        "  def __init__(self):\n",
        "    super().__init__() #нужна, т.к. мы переписываем конструктор модуля, от которого наследуем (обращаемся к высшему классу, иначе будет ошибка)\n",
        "\n",
        "# /////////////////// ПЕРВЫЙ ВАРИАНТ РЕАЛИЗАЦИИ МОДЕЛИ\n",
        "    # linear1 = nn.Linear(28*28,100)\n",
        "    # linear2 = nn.Linear(100,10)\n",
        "    # act = nn.Relu()\n",
        "\n",
        "  #   self.model = nn.Sequential(linear1, act, linear2)\n",
        "\n",
        "  # def forward(self,x): #сначала передаём класс self, затем тензор\n",
        "  #    return self.model(x)\n",
        "# //////////////////\n",
        "\n",
        "    # ВТОРОЙ ВАРИАНТ\n",
        "    self.flat = nn.Flatten() #чтобы была правильная размерность (делаем один длинный вектор)\n",
        "    self.linear1 = nn.Linear(28*28,100)\n",
        "    self.linear2 = nn.Linear(100,10)\n",
        "    self.act = nn.ReLU()\n",
        "\n",
        "  def forward(self, x):\n",
        "    out = self.flat(x)\n",
        "    out = self.linear1(out)\n",
        "    out = self.act(out)\n",
        "    out = self.linear2(out)\n",
        "\n",
        "    return out"
      ]
    },
    {
      "cell_type": "code",
      "execution_count": 9,
      "metadata": {
        "id": "1fEks-IvuZm6"
      },
      "outputs": [],
      "source": [
        "def count_parameers(model):\n",
        "  return sum(p.numel() for p in model.parameters() if p.requires_grad)\n"
      ]
    },
    {
      "cell_type": "code",
      "execution_count": 10,
      "metadata": {
        "id": "4AlQB5wiKIZS"
      },
      "outputs": [],
      "source": [
        "model =  Neural_numbers()"
      ]
    },
    {
      "cell_type": "code",
      "execution_count": 11,
      "metadata": {
        "colab": {
          "base_uri": "https://localhost:8080/"
        },
        "id": "CyUoTqAgvTrO",
        "outputId": "a5382df9-434d-4e88-aed7-a6be20037ffe"
      },
      "outputs": [
        {
          "output_type": "execute_result",
          "data": {
            "text/plain": [
              "79510"
            ]
          },
          "metadata": {},
          "execution_count": 11
        }
      ],
      "source": [
        "count_parameers(model) #число параметров сети"
      ]
    },
    {
      "cell_type": "code",
      "execution_count": 12,
      "metadata": {
        "id": "lq-Ag3GDH48b"
      },
      "outputs": [],
      "source": [
        "loss_fn = nn.CrossEntropyLoss()"
      ]
    },
    {
      "cell_type": "code",
      "execution_count": 13,
      "metadata": {
        "id": "IWRYcqxrJ_Sb"
      },
      "outputs": [],
      "source": [
        "optimazer = torch.optim.SGD(model.parameters(), lr = 1e-3, momentum = 0.9) #стохастический градиентный спуск"
      ]
    },
    {
      "cell_type": "code",
      "execution_count": 14,
      "metadata": {
        "id": "cLhskSf_5Q5s"
      },
      "outputs": [],
      "source": [
        "def accuracy(pred, label):\n",
        "  answer = F.softmax(pred.detach()).numpy().argmax(1) == label.numpy().argmax(1)\n",
        "\n",
        "  # detach() удаляет граф вычислений (как бы историю) с тензора. Отвязывает.\n",
        "# Back propagation не будет идти дальше этого тензора.\n",
        "\n",
        "  return answer.mean()"
      ]
    },
    {
      "cell_type": "code",
      "execution_count": 15,
      "metadata": {
        "colab": {
          "base_uri": "https://localhost:8080/"
        },
        "id": "rqkg9be-Kww8",
        "outputId": "17e17ec9-8974-40a5-f906-81321dbf4406"
      },
      "outputs": [
        {
          "output_type": "stream",
          "name": "stderr",
          "text": [
            "  0%|          | 0/3750 [00:00<?, ?it/s]<ipython-input-14-1744ef0ade74>:2: UserWarning: Implicit dimension choice for softmax has been deprecated. Change the call to include dim=X as an argument.\n",
            "  answer = F.softmax(pred.detach()).numpy().argmax(1) == label.numpy().argmax(1)\n",
            "loss: 0.25106\taccuracy: 0.938: 100%|██████████| 3750/3750 [00:35<00:00, 104.30it/s]\n"
          ]
        },
        {
          "output_type": "stream",
          "name": "stdout",
          "text": [
            "0.6406531504223744\n",
            "0.8448\n"
          ]
        },
        {
          "output_type": "stream",
          "name": "stderr",
          "text": [
            "loss: 0.81185\taccuracy: 0.875: 100%|██████████| 3750/3750 [00:35<00:00, 105.52it/s]\n"
          ]
        },
        {
          "output_type": "stream",
          "name": "stdout",
          "text": [
            "0.3150815931275487\n",
            "0.9096833333333333\n"
          ]
        },
        {
          "output_type": "stream",
          "name": "stderr",
          "text": [
            "loss: 0.20347\taccuracy: 0.938: 100%|██████████| 3750/3750 [00:36<00:00, 101.44it/s]\n"
          ]
        },
        {
          "output_type": "stream",
          "name": "stdout",
          "text": [
            "0.26814424701184036\n",
            "0.9235166666666667\n"
          ]
        },
        {
          "output_type": "stream",
          "name": "stderr",
          "text": [
            "loss: 0.11453\taccuracy: 1.000: 100%|██████████| 3750/3750 [00:35<00:00, 105.84it/s]\n"
          ]
        },
        {
          "output_type": "stream",
          "name": "stdout",
          "text": [
            "0.23370602405394117\n",
            "0.93375\n"
          ]
        },
        {
          "output_type": "stream",
          "name": "stderr",
          "text": [
            "loss: 0.28235\taccuracy: 0.938: 100%|██████████| 3750/3750 [00:34<00:00, 108.43it/s]\n"
          ]
        },
        {
          "output_type": "stream",
          "name": "stdout",
          "text": [
            "0.20671659050409993\n",
            "0.9420333333333333\n"
          ]
        },
        {
          "output_type": "stream",
          "name": "stderr",
          "text": [
            "loss: 0.11868\taccuracy: 0.938: 100%|██████████| 3750/3750 [00:35<00:00, 105.72it/s]\n"
          ]
        },
        {
          "output_type": "stream",
          "name": "stdout",
          "text": [
            "0.18463720703994235\n",
            "0.9479\n"
          ]
        },
        {
          "output_type": "stream",
          "name": "stderr",
          "text": [
            "loss: 0.32335\taccuracy: 0.938: 100%|██████████| 3750/3750 [00:34<00:00, 108.77it/s]\n"
          ]
        },
        {
          "output_type": "stream",
          "name": "stdout",
          "text": [
            "0.1668220275650422\n",
            "0.9532333333333334\n"
          ]
        },
        {
          "output_type": "stream",
          "name": "stderr",
          "text": [
            "loss: 0.32694\taccuracy: 0.938: 100%|██████████| 3750/3750 [00:35<00:00, 105.91it/s]\n"
          ]
        },
        {
          "output_type": "stream",
          "name": "stdout",
          "text": [
            "0.15146686922026179\n",
            "0.9573666666666667\n"
          ]
        },
        {
          "output_type": "stream",
          "name": "stderr",
          "text": [
            "loss: 0.01030\taccuracy: 1.000: 100%|██████████| 3750/3750 [00:35<00:00, 106.42it/s]\n"
          ]
        },
        {
          "output_type": "stream",
          "name": "stdout",
          "text": [
            "0.13863486265850564\n",
            "0.9611\n"
          ]
        },
        {
          "output_type": "stream",
          "name": "stderr",
          "text": [
            "loss: 0.02018\taccuracy: 1.000: 100%|██████████| 3750/3750 [00:36<00:00, 103.95it/s]"
          ]
        },
        {
          "output_type": "stream",
          "name": "stdout",
          "text": [
            "0.12842258078344165\n",
            "0.9642\n"
          ]
        },
        {
          "output_type": "stream",
          "name": "stderr",
          "text": [
            "\n"
          ]
        }
      ],
      "source": [
        "epochs = 10\n",
        "\n",
        "# for epoch in range(epochs):\n",
        "#   loss_val = 0\n",
        "#   acc_val = 0\n",
        "#   # тут будут пачки по 16 сэмплов\n",
        "#   for img, label in (pbar := tqdm(dataloader)): #для каждого изображения считается loss и градиент\n",
        "\n",
        "\n",
        "for epoch in range(epochs):\n",
        "  loss_val = 0\n",
        "  acc_val = 0\n",
        "  for img, label in (pbar := tqdm(dataloader)):\n",
        "    optimazer.zero_grad()  #обновляем градиенты\n",
        "\n",
        "\n",
        "    label = (torch.Tensor(F.one_hot(label, 10))).float() #здесь 16 тензоров по 10 значений(на нужном классе стоит 1)\n",
        "    # label - это метка нужного класса, т.е. цифра от 1 до 10\n",
        "    #  one_hot - эта функция создаст тензоры(по количеству картинок), в которых будут только 0, а 1 встанет на место под индексом, который равен label\n",
        "    # количество label = кол-ву картинок, столько будет тензоров по 10 чисел в каждом(9 нулей и 1 единичка на нужном месте)\n",
        "\n",
        "    pred = model(img) #здесь 10 значений (для каждого класса) в 16 тензорах(размер батча)\n",
        "\n",
        "    loss = loss_fn(pred, label)\n",
        "\n",
        "    loss.backward()\n",
        "    loss_item = loss.item()\n",
        "    loss_val += loss_item\n",
        "\n",
        "    optimazer.step()\n",
        "\n",
        "    acc_current = accuracy(pred, label)\n",
        "    acc_val += acc_current #мы же выводим среднее, поэтому суммируем\n",
        "\n",
        "\n",
        "    pbar.set_description(f'loss: {loss_item:.5f}\\taccuracy: {acc_current:.3f}')\n",
        "\n",
        "  print(loss_val/len(dataloader))\n",
        "  print(acc_val/len(dataloader))\n"
      ]
    },
    {
      "cell_type": "code",
      "source": [
        "accuracy(pred, label)"
      ],
      "metadata": {
        "colab": {
          "base_uri": "https://localhost:8080/"
        },
        "id": "rw3yju1j7HrJ",
        "outputId": "8272bdc1-0357-45c2-8143-948b35c1d3af"
      },
      "execution_count": 16,
      "outputs": [
        {
          "output_type": "stream",
          "name": "stderr",
          "text": [
            "<ipython-input-14-1744ef0ade74>:2: UserWarning: Implicit dimension choice for softmax has been deprecated. Change the call to include dim=X as an argument.\n",
            "  answer = F.softmax(pred.detach()).numpy().argmax(1) == label.numpy().argmax(1)\n"
          ]
        },
        {
          "output_type": "execute_result",
          "data": {
            "text/plain": [
              "1.0"
            ]
          },
          "metadata": {},
          "execution_count": 16
        }
      ]
    },
    {
      "cell_type": "code",
      "source": [
        "# Загружаем тестовый датасет для проверки работы НС\n",
        "import torchvision.datasets as datasets\n",
        "mnist_test_dataset = datasets.MNIST(root='./datasets', train=False, transform=trans)\n",
        "mnist_test_dataset[1][0].numpy()[0].shape"
      ],
      "metadata": {
        "colab": {
          "base_uri": "https://localhost:8080/"
        },
        "id": "CuinZGXXsv58",
        "outputId": "e01d196f-9602-49a7-b213-7b4f7b88439f"
      },
      "execution_count": 38,
      "outputs": [
        {
          "output_type": "execute_result",
          "data": {
            "text/plain": [
              "(28, 28)"
            ]
          },
          "metadata": {},
          "execution_count": 38
        }
      ]
    },
    {
      "cell_type": "code",
      "source": [
        "plt.imshow(mnist_test_dataset[0][0].numpy()[0]) #рисуем первую картинку в тестовом датасете"
      ],
      "metadata": {
        "colab": {
          "base_uri": "https://localhost:8080/",
          "height": 447
        },
        "id": "zKw-hFvPyFbC",
        "outputId": "ec5ef2b4-8230-4ad0-cdec-3ba5ec3c786f"
      },
      "execution_count": 39,
      "outputs": [
        {
          "output_type": "execute_result",
          "data": {
            "text/plain": [
              "<matplotlib.image.AxesImage at 0x79d10c0115d0>"
            ]
          },
          "metadata": {},
          "execution_count": 39
        },
        {
          "output_type": "display_data",
          "data": {
            "text/plain": [
              "<Figure size 640x480 with 1 Axes>"
            ],
            "image/png": "[encoded data removed]"
          },
          "metadata": {}
        }
      ]
    },
    {
      "cell_type": "code",
      "source": [
        "# проверка работы НС на тестовом изображении\n",
        "test_img = mnist_test_dataset[0][0]\n",
        "test_pred = model(test_img)\n",
        "print(test_pred)\n",
        "\n",
        "F.softmax(test_pred).detach().numpy().argmax() #можно закомментировать argmax и посмотреть вероятности"
      ],
      "metadata": {
        "colab": {
          "base_uri": "https://localhost:8080/"
        },
        "id": "MBWSA2ZTxiQf",
        "outputId": "6d6b965a-d97e-4417-c5da-aca9957254f9"
      },
      "execution_count": 40,
      "outputs": [
        {
          "output_type": "stream",
          "name": "stdout",
          "text": [
            "tensor([[  0.2654,  -6.5142,   3.8868,   5.5698,  -6.2383,   0.2873, -10.2248,\n",
            "          11.1404,   0.7062,   2.5062]], grad_fn=<AddmmBackward0>)\n"
          ]
        },
        {
          "output_type": "stream",
          "name": "stderr",
          "text": [
            "<ipython-input-40-0fdc2aff9a43>:6: UserWarning: Implicit dimension choice for softmax has been deprecated. Change the call to include dim=X as an argument.\n",
            "  F.softmax(test_pred).detach().numpy().argmax() #можно закомментировать argmax и посмотреть вероятности\n"
          ]
        },
        {
          "output_type": "execute_result",
          "data": {
            "text/plain": [
              "7"
            ]
          },
          "metadata": {},
          "execution_count": 40
        }
      ]
    }
  ],
  "metadata": {
    "colab": {
      "provenance": [],
      "authorship_tag": "ABX9TyM1NEYld2w05Zwn6UvgwtOC",
      "include_colab_link": true
    },
    "kernelspec": {
      "display_name": "Python 3",
      "name": "python3"
    },
    "language_info": {
      "name": "python"
    }
  },
  "nbformat": 4,
  "nbformat_minor": 0
}
